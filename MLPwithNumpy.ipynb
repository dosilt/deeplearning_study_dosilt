{
 "cells": [
  {
   "cell_type": "code",
   "execution_count": 70,
   "metadata": {},
   "outputs": [],
   "source": [
    "import sys, os\n",
    "sys.path.append(os.pardir)\n",
    "\n",
    "import numpy as np\n",
    "from dataset.mnist import load_mnist\n",
    "\n",
    "(x_train, t_train), (x_test, t_test) = load_mnist(normalize=True, one_hot_label=True)"
   ]
  },
  {
   "cell_type": "code",
   "execution_count": 71,
   "metadata": {},
   "outputs": [
    {
     "data": {
      "text/plain": [
       "array([[0., 0., 0., ..., 0., 0., 0.],\n",
       "       [0., 0., 0., ..., 0., 0., 0.],\n",
       "       [0., 0., 0., ..., 0., 0., 0.],\n",
       "       ...,\n",
       "       [0., 0., 0., ..., 0., 0., 0.],\n",
       "       [0., 0., 0., ..., 0., 0., 0.],\n",
       "       [0., 0., 0., ..., 0., 0., 0.]], dtype=float32)"
      ]
     },
     "execution_count": 71,
     "metadata": {},
     "output_type": "execute_result"
    }
   ],
   "source": [
    "x_train"
   ]
  },
  {
   "cell_type": "code",
   "execution_count": 72,
   "metadata": {},
   "outputs": [
    {
     "data": {
      "text/plain": [
       "(60000, 784)"
      ]
     },
     "execution_count": 72,
     "metadata": {},
     "output_type": "execute_result"
    }
   ],
   "source": [
    "x_train.shape"
   ]
  },
  {
   "cell_type": "code",
   "execution_count": 73,
   "metadata": {},
   "outputs": [],
   "source": [
    "def softmax(x):\n",
    "    if x.ndim == 2:\n",
    "        x = x.T\n",
    "        x = x - np.max(x, axis=0)\n",
    "        y = np.exp(x) / np.sum(np.exp(x), axis=0)\n",
    "        return y.T \n",
    "    \n",
    "    c = np.max(x)\n",
    "    exp_a = np.exp(x-c)\n",
    "    return exp_a / np.sum(exp_a)"
   ]
  },
  {
   "cell_type": "code",
   "execution_count": 74,
   "metadata": {},
   "outputs": [],
   "source": [
    "def cross_entropy_error(y, t):\n",
    "    if y.ndim == 1:\n",
    "        y = y.reshape(1, -1)\n",
    "        t = t.reshape(1, -1)\n",
    "    batch_size = float(y.shape[0])\n",
    "    return -np.sum(t * np.log(y + 1e-7)) / batch_size"
   ]
  },
  {
   "cell_type": "code",
   "execution_count": 75,
   "metadata": {},
   "outputs": [],
   "source": [
    "class ReLU:\n",
    "    def __init__(self):\n",
    "        pass\n",
    "    \n",
    "    def forward(self, x):\n",
    "        self.mask = (x <= 0)\n",
    "        x[self.mask] = 0\n",
    "        return x\n",
    "    \n",
    "    def backward(self, dout):\n",
    "        dout[self.mask] = 0\n",
    "        return dout"
   ]
  },
  {
   "cell_type": "code",
   "execution_count": 226,
   "metadata": {},
   "outputs": [],
   "source": [
    "class Sigmoid:\n",
    "    def __init__(self):\n",
    "        pass\n",
    "    \n",
    "    def forward(self, x):\n",
    "        out = 1 / (1 + np.exp(-x))\n",
    "        self.out = out\n",
    "        return out\n",
    "    \n",
    "    def backward(self, dout):\n",
    "        return dout * (1.0 - self.out) * self.out"
   ]
  },
  {
   "cell_type": "code",
   "execution_count": 227,
   "metadata": {},
   "outputs": [],
   "source": [
    "class Affine:\n",
    "    def __init__(self, input_size, output_size, std=0.01, lr=0.01):\n",
    "        self.lr = lr\n",
    "        self.W, self.b = np.random.randn(input_size, output_size) * std, np.zeros(output_size)\n",
    "        self.x = None\n",
    "        self.dW, self.db = None, None\n",
    "        \n",
    "    def forward(self, x):\n",
    "        self.x = x\n",
    "        out = np.dot(x, self.W) + self.b\n",
    "        return out\n",
    "    \n",
    "    def backward(self, dout):\n",
    "        dx = np.dot(dout, self.W.T)\n",
    "        self.dW = np.dot(self.x.T, dout)\n",
    "        self.db = np.sum(dout, axis=0)\n",
    "        self.W = self.W - self.lr*self.dW\n",
    "        self.b = self.b - self.lr*self.db\n",
    "        return dx"
   ]
  },
  {
   "cell_type": "code",
   "execution_count": 228,
   "metadata": {},
   "outputs": [],
   "source": [
    "class SoftmaxWithLoss:\n",
    "    def __init__(self):\n",
    "        self.loss = None\n",
    "        \n",
    "    def forward(self, x, t):\n",
    "        self.t = t\n",
    "        self.y = softmax(x)\n",
    "        self.loss = cross_entropy_error(self.y, self.t)\n",
    "        return self.loss\n",
    "    \n",
    "    def backward(self, dout=1):\n",
    "        batch_size = self.y.shape[0]\n",
    "        return (self.y - self.t) / float(batch_size)"
   ]
  },
  {
   "cell_type": "code",
   "execution_count": 238,
   "metadata": {},
   "outputs": [],
   "source": [
    "def model():\n",
    "    h1 = Affine(input_size=784, output_size=100, lr=0.01)\n",
    "    relu1 = ReLU()\n",
    "    h2 = Affine(input_size=100, output_size=10, lr=0.01)\n",
    "    softmaxwithloss = SoftmaxWithLoss()\n",
    "    return [h1, relu1, h2], softmaxwithloss\n",
    "    \n",
    "def train(models, last_layer, x_train, t_train, x_test, t_test, batch_size, epochs):\n",
    "    global train_acc, test_acc\n",
    "    for i in range(epochs):\n",
    "        test = x_test\n",
    "        batch = np.random.choice(x_train.shape[0], batch_size)\n",
    "        train = x_train[batch]\n",
    "        label = t_train[batch]\n",
    "        \n",
    "        for layer in models:\n",
    "            test = layer.forward(test)\n",
    "        \n",
    "        if i % 100 == 0:\n",
    "            x2 = np.argmax(test, axis=1)\n",
    "            t2 = np.argmax(t_test, axis=1)\n",
    "            test_accuracy = np.sum(x2 == t2) / len(x2)\n",
    "            test_acc.append(test_accuracy)\n",
    "            print('test accuracy = ', test_accuracy)\n",
    "        \n",
    "        for num, layer in enumerate(models):\n",
    "            train = layer.forward(train)\n",
    "            \n",
    "        if i % 100 == 0:\n",
    "            x1 = np.argmax(train, axis=1)\n",
    "            t1 = np.argmax(label, axis=1)\n",
    "            \n",
    "            train_accuracy = np.sum(x1 == t1) / len(x1)\n",
    "            train_acc.append(train_accuracy)\n",
    "            print('train accuracy = ', train_accuracy)\n",
    "        last_layer.forward(train, label)\n",
    "        dout = 1\n",
    "        dout = last_layer.backward(dout)\n",
    "        \n",
    "        for layer in models[::-1]:\n",
    "            dout = layer.backward(dout)   \n",
    "    return models, last_layer"
   ]
  },
  {
   "cell_type": "code",
   "execution_count": 239,
   "metadata": {},
   "outputs": [],
   "source": [
    "def predict(models, last_layer, x, t):\n",
    "    for layer in models:\n",
    "        x = layer.forward(x)\n",
    "    y = np.argmax(x, axis=1)\n",
    "    t = np.argmax(t, axis=1)\n",
    "    print(np.sum(y==t) / len(y))"
   ]
  },
  {
   "cell_type": "code",
   "execution_count": 240,
   "metadata": {},
   "outputs": [],
   "source": [
    "models, last_layer = model()\n",
    "train_acc, test_acc = [], []"
   ]
  },
  {
   "cell_type": "code",
   "execution_count": 241,
   "metadata": {},
   "outputs": [
    {
     "name": "stdout",
     "output_type": "stream",
     "text": [
      "test accuracy =  0.0844\n",
      "train accuracy =  0.11\n",
      "test accuracy =  0.3705\n",
      "train accuracy =  0.4\n",
      "test accuracy =  0.4796\n",
      "train accuracy =  0.44\n",
      "test accuracy =  0.6024\n",
      "train accuracy =  0.64\n",
      "test accuracy =  0.5547\n",
      "train accuracy =  0.62\n",
      "test accuracy =  0.5881\n",
      "train accuracy =  0.62\n",
      "test accuracy =  0.6516\n",
      "train accuracy =  0.59\n",
      "test accuracy =  0.6963\n",
      "train accuracy =  0.64\n",
      "test accuracy =  0.7371\n",
      "train accuracy =  0.78\n",
      "test accuracy =  0.761\n",
      "train accuracy =  0.76\n",
      "test accuracy =  0.7903\n",
      "train accuracy =  0.79\n",
      "test accuracy =  0.7975\n",
      "train accuracy =  0.84\n",
      "test accuracy =  0.8177\n",
      "train accuracy =  0.88\n",
      "test accuracy =  0.8263\n",
      "train accuracy =  0.81\n",
      "test accuracy =  0.8364\n",
      "train accuracy =  0.85\n",
      "test accuracy =  0.8464\n",
      "train accuracy =  0.88\n",
      "test accuracy =  0.8531\n",
      "train accuracy =  0.86\n",
      "test accuracy =  0.8581\n",
      "train accuracy =  0.77\n",
      "test accuracy =  0.8651\n",
      "train accuracy =  0.81\n",
      "test accuracy =  0.8681\n",
      "train accuracy =  0.9\n",
      "test accuracy =  0.8724\n",
      "train accuracy =  0.9\n",
      "test accuracy =  0.8754\n",
      "train accuracy =  0.84\n",
      "test accuracy =  0.8793\n",
      "train accuracy =  0.85\n",
      "test accuracy =  0.8809\n",
      "train accuracy =  0.88\n",
      "test accuracy =  0.8831\n",
      "train accuracy =  0.9\n",
      "test accuracy =  0.8859\n",
      "train accuracy =  0.85\n",
      "test accuracy =  0.8868\n",
      "train accuracy =  0.84\n",
      "test accuracy =  0.8879\n",
      "train accuracy =  0.9\n",
      "test accuracy =  0.8894\n",
      "train accuracy =  0.89\n",
      "test accuracy =  0.8909\n",
      "train accuracy =  0.9\n",
      "test accuracy =  0.8914\n",
      "train accuracy =  0.91\n",
      "test accuracy =  0.8935\n",
      "train accuracy =  0.85\n",
      "test accuracy =  0.8955\n",
      "train accuracy =  0.89\n",
      "test accuracy =  0.8949\n",
      "train accuracy =  0.87\n",
      "test accuracy =  0.8963\n",
      "train accuracy =  0.92\n",
      "test accuracy =  0.8972\n",
      "train accuracy =  0.88\n",
      "test accuracy =  0.8995\n",
      "train accuracy =  0.91\n",
      "test accuracy =  0.8997\n",
      "train accuracy =  0.89\n",
      "test accuracy =  0.9007\n",
      "train accuracy =  0.91\n",
      "test accuracy =  0.9014\n",
      "train accuracy =  0.94\n",
      "test accuracy =  0.9015\n",
      "train accuracy =  0.92\n",
      "test accuracy =  0.9018\n",
      "train accuracy =  0.94\n",
      "test accuracy =  0.9026\n",
      "train accuracy =  0.89\n",
      "test accuracy =  0.9016\n",
      "train accuracy =  0.91\n",
      "test accuracy =  0.9042\n",
      "train accuracy =  0.91\n",
      "test accuracy =  0.9052\n",
      "train accuracy =  0.89\n",
      "test accuracy =  0.9062\n",
      "train accuracy =  0.85\n",
      "test accuracy =  0.905\n",
      "train accuracy =  0.91\n",
      "test accuracy =  0.9049\n",
      "train accuracy =  0.89\n",
      "test accuracy =  0.9062\n",
      "train accuracy =  0.93\n"
     ]
    }
   ],
   "source": [
    "models, last_layer = train(models, last_layer, x_train, t_train, x_test, t_test, 100, 5000)"
   ]
  },
  {
   "cell_type": "code",
   "execution_count": null,
   "metadata": {},
   "outputs": [],
   "source": [
    "predict(models, last_layer, x_test, t_test)"
   ]
  },
  {
   "cell_type": "code",
   "execution_count": 242,
   "metadata": {},
   "outputs": [],
   "source": [
    "import matplotlib.pyplot as plt"
   ]
  },
  {
   "cell_type": "code",
   "execution_count": 243,
   "metadata": {},
   "outputs": [
    {
     "data": {
      "text/plain": [
       "Text(0.5, 0, 'epoch/100')"
      ]
     },
     "execution_count": 243,
     "metadata": {},
     "output_type": "execute_result"
    },
    {
     "data": {
      "image/png": "[encoded data removed]",
      "text/plain": [
       "<Figure size 432x288 with 1 Axes>"
      ]
     },
     "metadata": {
      "needs_background": "light"
     },
     "output_type": "display_data"
    }
   ],
   "source": [
    "plt.plot(train_acc, label='train acc')\n",
    "plt.plot(test_acc, label='test acc')\n",
    "plt.legend()\n",
    "plt.grid()\n",
    "plt.ylabel('accuracy')\n",
    "plt.xlabel('epoch/100')"
   ]
  },
  {
   "cell_type": "code",
   "execution_count": null,
   "metadata": {},
   "outputs": [],
   "source": []
  }
 ],
 "metadata": {
  "kernelspec": {
   "display_name": "Python 3",
   "language": "python",
   "name": "python3"
  },
  "language_info": {
   "codemirror_mode": {
    "name": "ipython",
    "version": 3
   },
   "file_extension": ".py",
   "mimetype": "text/x-python",
   "name": "python",
   "nbconvert_exporter": "python",
   "pygments_lexer": "ipython3",
   "version": "3.7.7"
  }
 },
 "nbformat": 4,
 "nbformat_minor": 4
}
